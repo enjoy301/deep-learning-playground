{
  "nbformat": 4,
  "nbformat_minor": 0,
  "metadata": {
    "colab": {
      "provenance": [],
      "gpuType": "T4",
      "authorship_tag": "ABX9TyMvBD83SYA00VUr1K1pdajb",
      "include_colab_link": true
    },
    "kernelspec": {
      "name": "python3",
      "display_name": "Python 3"
    },
    "language_info": {
      "name": "python"
    },
    "accelerator": "GPU"
  },
  "cells": [
    {
      "cell_type": "markdown",
      "metadata": {
        "id": "view-in-github",
        "colab_type": "text"
      },
      "source": [
        "<a href=\"https://colab.research.google.com/github/enjoy301/deep-learning-playground/blob/main/DeepLearningWithPyTorch.ipynb\" target=\"_parent\"><img src=\"https://colab.research.google.com/assets/colab-badge.svg\" alt=\"Open In Colab\"/></a>"
      ]
    },
    {
      "cell_type": "markdown",
      "source": [
        "# 텐서 다루기"
      ],
      "metadata": {
        "id": "Bdkt7RNaTcye"
      }
    },
    {
      "cell_type": "code",
      "source": [
        "import torch\n",
        "\n",
        "print(torch.tensor([[1,2], [3,4]]))\n",
        "print(torch.tensor([[1,2], [3,4]], device=\"cuda:0\"))\n",
        "print(torch.tensor([[1,2], [3,4]], dtype=torch.float64))"
      ],
      "metadata": {
        "colab": {
          "base_uri": "https://localhost:8080/"
        },
        "id": "hPy-YPp9UNF4",
        "outputId": "58913072-8c51-4c5b-dde8-ecc6acd931cf"
      },
      "execution_count": 3,
      "outputs": [
        {
          "output_type": "stream",
          "name": "stdout",
          "text": [
            "tensor([[1, 2],\n",
            "        [3, 4]])\n",
            "tensor([[1, 2],\n",
            "        [3, 4]], device='cuda:0')\n",
            "tensor([[1., 2.],\n",
            "        [3., 4.]], dtype=torch.float64)\n"
          ]
        }
      ]
    },
    {
      "cell_type": "code",
      "source": [
        "temp = torch.tensor([\n",
        "    [1, 2],\n",
        "    [3, 4],\n",
        "])\n",
        "\n",
        "print(temp.shape)\n",
        "\n",
        "# 4x1 행렬로 변형\n",
        "print(temp.view(4, 1))\n",
        "\n",
        "# 1차원 벡터로 변형\n",
        "print(temp.view(-1))\n",
        "\n",
        "# 1x? 행렬로 변형\n",
        "print(temp.view(1, -1))\n",
        "\n",
        "# ?x1 행렬로 변형\n",
        "print(temp.view(-1, 1))"
      ],
      "metadata": {
        "colab": {
          "base_uri": "https://localhost:8080/"
        },
        "id": "cr-SSI7WU0tx",
        "outputId": "d6e290b1-0ba1-4e8d-a8ff-3ec1d07d2525"
      },
      "execution_count": 7,
      "outputs": [
        {
          "output_type": "stream",
          "name": "stdout",
          "text": [
            "torch.Size([2, 2])\n",
            "tensor([[1],\n",
            "        [2],\n",
            "        [3],\n",
            "        [4]])\n",
            "tensor([1, 2, 3, 4])\n",
            "tensor([[1, 2, 3, 4]])\n",
            "tensor([[1],\n",
            "        [2],\n",
            "        [3],\n",
            "        [4]])\n"
          ]
        }
      ]
    }
  ]
}