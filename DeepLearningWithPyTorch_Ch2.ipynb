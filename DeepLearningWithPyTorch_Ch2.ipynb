{
  "nbformat": 4,
  "nbformat_minor": 0,
  "metadata": {
    "colab": {
      "provenance": [],
      "gpuType": "T4",
      "authorship_tag": "ABX9TyN1s7if+OFxCp3Hmqx6Ggxf",
      "include_colab_link": true
    },
    "kernelspec": {
      "name": "python3",
      "display_name": "Python 3"
    },
    "language_info": {
      "name": "python"
    },
    "accelerator": "GPU"
  },
  "cells": [
    {
      "cell_type": "markdown",
      "metadata": {
        "id": "view-in-github",
        "colab_type": "text"
      },
      "source": [
        "<a href=\"https://colab.research.google.com/github/enjoy301/deep-learning-playground/blob/main/DeepLearningWithPyTorch_Ch2.ipynb\" target=\"_parent\"><img src=\"https://colab.research.google.com/assets/colab-badge.svg\" alt=\"Open In Colab\"/></a>"
      ]
    },
    {
      "cell_type": "markdown",
      "source": [
        "# 텐서 다루기"
      ],
      "metadata": {
        "id": "Bdkt7RNaTcye"
      }
    },
    {
      "cell_type": "code",
      "source": [
        "import torch\n",
        "\n",
        "print(torch.tensor([[1,2], [3,4]]))\n",
        "print(torch.tensor([[1,2], [3,4]], device=\"cuda:0\"))\n",
        "print(torch.tensor([[1,2], [3,4]], dtype=torch.float64))"
      ],
      "metadata": {
        "colab": {
          "base_uri": "https://localhost:8080/"
        },
        "id": "hPy-YPp9UNF4",
        "outputId": "58913072-8c51-4c5b-dde8-ecc6acd931cf"
      },
      "execution_count": 3,
      "outputs": [
        {
          "output_type": "stream",
          "name": "stdout",
          "text": [
            "tensor([[1, 2],\n",
            "        [3, 4]])\n",
            "tensor([[1, 2],\n",
            "        [3, 4]], device='cuda:0')\n",
            "tensor([[1., 2.],\n",
            "        [3., 4.]], dtype=torch.float64)\n"
          ]
        }
      ]
    },
    {
      "cell_type": "code",
      "source": [
        "temp = torch.tensor([\n",
        "    [1, 2],\n",
        "    [3, 4],\n",
        "])\n",
        "\n",
        "print(temp.shape)\n",
        "\n",
        "# 4x1 행렬로 변형\n",
        "print(temp.view(4, 1))\n",
        "\n",
        "# 1차원 벡터로 변형\n",
        "print(temp.view(-1))\n",
        "\n",
        "# 1x? 행렬로 변형\n",
        "print(temp.view(1, -1))\n",
        "\n",
        "# ?x1 행렬로 변형\n",
        "print(temp.view(-1, 1))"
      ],
      "metadata": {
        "colab": {
          "base_uri": "https://localhost:8080/"
        },
        "id": "cr-SSI7WU0tx",
        "outputId": "d6e290b1-0ba1-4e8d-a8ff-3ec1d07d2525"
      },
      "execution_count": 7,
      "outputs": [
        {
          "output_type": "stream",
          "name": "stdout",
          "text": [
            "torch.Size([2, 2])\n",
            "tensor([[1],\n",
            "        [2],\n",
            "        [3],\n",
            "        [4]])\n",
            "tensor([1, 2, 3, 4])\n",
            "tensor([[1, 2, 3, 4]])\n",
            "tensor([[1],\n",
            "        [2],\n",
            "        [3],\n",
            "        [4]])\n"
          ]
        }
      ]
    },
    {
      "cell_type": "markdown",
      "source": [
        "# Sequential 신경망 정의"
      ],
      "metadata": {
        "id": "JznM1Kh0Yj7I"
      }
    },
    {
      "cell_type": "code",
      "source": [
        "import torch.nn as nn\n",
        "\n",
        "class MLP(nn.Module):\n",
        "  def __init__(self):\n",
        "    super(MLP, self).__init__()\n",
        "\n",
        "    self.layer1 = nn.Sequential(\n",
        "        nn.Conv2d(in_channels=3, out_channels=64, kernel_size=5),\n",
        "        nn.ReLU(inplace=True),\n",
        "        nn.MaxPool2d(2),\n",
        "    )\n",
        "\n",
        "    self.layer2 = nn.Sequential(\n",
        "        nn.Conv2d(in_channels=64, out_channels=30, kernel_size=5),\n",
        "        nn.ReLU(inplace=True),\n",
        "        nn.MaxPool2d(2),\n",
        "    )\n",
        "\n",
        "    self.layer3 = nn.Sequential(\n",
        "        nn.Linear(in_features=30*5*5, out_features=10, bias=True),\n",
        "        nn.ReLU(inplace=True)\n",
        "    )\n",
        "\n",
        "  def forward(self, x):\n",
        "    x = self.layer1(x)\n",
        "    x = self.layer2(x)\n",
        "    x = x.view(x.shape[0], -1)\n",
        "    x = self.layer3(x)\n",
        "\n",
        "    return x\n",
        "\n",
        "model = MLP()"
      ],
      "metadata": {
        "id": "4r0SNhpqYuZ6"
      },
      "execution_count": 8,
      "outputs": []
    },
    {
      "cell_type": "markdown",
      "source": [
        "# model training"
      ],
      "metadata": {
        "id": "J25u5NntnK94"
      }
    },
    {
      "cell_type": "code",
      "source": [
        "import torch\n",
        "import torch.nn as nn\n",
        "import numpy as np\n",
        "import pandas as pd\n",
        "import matplotlib.pyplot as plt\n",
        "import seaborn as sns"
      ],
      "metadata": {
        "id": "VZTG8KbNnQrv"
      },
      "execution_count": 14,
      "outputs": []
    },
    {
      "cell_type": "code",
      "source": [
        "dataset = pd.read_csv('./sample_data/car_evaluation.csv')\n",
        "dataset.head()"
      ],
      "metadata": {
        "colab": {
          "base_uri": "https://localhost:8080/",
          "height": 206
        },
        "id": "4hU0W4asnkn8",
        "outputId": "7c4a5ea6-7d96-4072-96e0-57e764d45950"
      },
      "execution_count": 17,
      "outputs": [
        {
          "output_type": "execute_result",
          "data": {
            "text/plain": [
              "   price  maint doors persons lug_capacity safety output\n",
              "0  vhigh  vhigh     2       2        small    low  unacc\n",
              "1  vhigh  vhigh     2       2        small    med  unacc\n",
              "2  vhigh  vhigh     2       2        small   high  unacc\n",
              "3  vhigh  vhigh     2       2          med    low  unacc\n",
              "4  vhigh  vhigh     2       2          med    med  unacc"
            ],
            "text/html": [
              "\n",
              "  <div id=\"df-9bdc5669-09f4-4ad1-91c9-8b80b4a929f8\" class=\"colab-df-container\">\n",
              "    <div>\n",
              "<style scoped>\n",
              "    .dataframe tbody tr th:only-of-type {\n",
              "        vertical-align: middle;\n",
              "    }\n",
              "\n",
              "    .dataframe tbody tr th {\n",
              "        vertical-align: top;\n",
              "    }\n",
              "\n",
              "    .dataframe thead th {\n",
              "        text-align: right;\n",
              "    }\n",
              "</style>\n",
              "<table border=\"1\" class=\"dataframe\">\n",
              "  <thead>\n",
              "    <tr style=\"text-align: right;\">\n",
              "      <th></th>\n",
              "      <th>price</th>\n",
              "      <th>maint</th>\n",
              "      <th>doors</th>\n",
              "      <th>persons</th>\n",
              "      <th>lug_capacity</th>\n",
              "      <th>safety</th>\n",
              "      <th>output</th>\n",
              "    </tr>\n",
              "  </thead>\n",
              "  <tbody>\n",
              "    <tr>\n",
              "      <th>0</th>\n",
              "      <td>vhigh</td>\n",
              "      <td>vhigh</td>\n",
              "      <td>2</td>\n",
              "      <td>2</td>\n",
              "      <td>small</td>\n",
              "      <td>low</td>\n",
              "      <td>unacc</td>\n",
              "    </tr>\n",
              "    <tr>\n",
              "      <th>1</th>\n",
              "      <td>vhigh</td>\n",
              "      <td>vhigh</td>\n",
              "      <td>2</td>\n",
              "      <td>2</td>\n",
              "      <td>small</td>\n",
              "      <td>med</td>\n",
              "      <td>unacc</td>\n",
              "    </tr>\n",
              "    <tr>\n",
              "      <th>2</th>\n",
              "      <td>vhigh</td>\n",
              "      <td>vhigh</td>\n",
              "      <td>2</td>\n",
              "      <td>2</td>\n",
              "      <td>small</td>\n",
              "      <td>high</td>\n",
              "      <td>unacc</td>\n",
              "    </tr>\n",
              "    <tr>\n",
              "      <th>3</th>\n",
              "      <td>vhigh</td>\n",
              "      <td>vhigh</td>\n",
              "      <td>2</td>\n",
              "      <td>2</td>\n",
              "      <td>med</td>\n",
              "      <td>low</td>\n",
              "      <td>unacc</td>\n",
              "    </tr>\n",
              "    <tr>\n",
              "      <th>4</th>\n",
              "      <td>vhigh</td>\n",
              "      <td>vhigh</td>\n",
              "      <td>2</td>\n",
              "      <td>2</td>\n",
              "      <td>med</td>\n",
              "      <td>med</td>\n",
              "      <td>unacc</td>\n",
              "    </tr>\n",
              "  </tbody>\n",
              "</table>\n",
              "</div>\n",
              "    <div class=\"colab-df-buttons\">\n",
              "\n",
              "  <div class=\"colab-df-container\">\n",
              "    <button class=\"colab-df-convert\" onclick=\"convertToInteractive('df-9bdc5669-09f4-4ad1-91c9-8b80b4a929f8')\"\n",
              "            title=\"Convert this dataframe to an interactive table.\"\n",
              "            style=\"display:none;\">\n",
              "\n",
              "  <svg xmlns=\"http://www.w3.org/2000/svg\" height=\"24px\" viewBox=\"0 -960 960 960\">\n",
              "    <path d=\"M120-120v-720h720v720H120Zm60-500h600v-160H180v160Zm220 220h160v-160H400v160Zm0 220h160v-160H400v160ZM180-400h160v-160H180v160Zm440 0h160v-160H620v160ZM180-180h160v-160H180v160Zm440 0h160v-160H620v160Z\"/>\n",
              "  </svg>\n",
              "    </button>\n",
              "\n",
              "  <style>\n",
              "    .colab-df-container {\n",
              "      display:flex;\n",
              "      gap: 12px;\n",
              "    }\n",
              "\n",
              "    .colab-df-convert {\n",
              "      background-color: #E8F0FE;\n",
              "      border: none;\n",
              "      border-radius: 50%;\n",
              "      cursor: pointer;\n",
              "      display: none;\n",
              "      fill: #1967D2;\n",
              "      height: 32px;\n",
              "      padding: 0 0 0 0;\n",
              "      width: 32px;\n",
              "    }\n",
              "\n",
              "    .colab-df-convert:hover {\n",
              "      background-color: #E2EBFA;\n",
              "      box-shadow: 0px 1px 2px rgba(60, 64, 67, 0.3), 0px 1px 3px 1px rgba(60, 64, 67, 0.15);\n",
              "      fill: #174EA6;\n",
              "    }\n",
              "\n",
              "    .colab-df-buttons div {\n",
              "      margin-bottom: 4px;\n",
              "    }\n",
              "\n",
              "    [theme=dark] .colab-df-convert {\n",
              "      background-color: #3B4455;\n",
              "      fill: #D2E3FC;\n",
              "    }\n",
              "\n",
              "    [theme=dark] .colab-df-convert:hover {\n",
              "      background-color: #434B5C;\n",
              "      box-shadow: 0px 1px 3px 1px rgba(0, 0, 0, 0.15);\n",
              "      filter: drop-shadow(0px 1px 2px rgba(0, 0, 0, 0.3));\n",
              "      fill: #FFFFFF;\n",
              "    }\n",
              "  </style>\n",
              "\n",
              "    <script>\n",
              "      const buttonEl =\n",
              "        document.querySelector('#df-9bdc5669-09f4-4ad1-91c9-8b80b4a929f8 button.colab-df-convert');\n",
              "      buttonEl.style.display =\n",
              "        google.colab.kernel.accessAllowed ? 'block' : 'none';\n",
              "\n",
              "      async function convertToInteractive(key) {\n",
              "        const element = document.querySelector('#df-9bdc5669-09f4-4ad1-91c9-8b80b4a929f8');\n",
              "        const dataTable =\n",
              "          await google.colab.kernel.invokeFunction('convertToInteractive',\n",
              "                                                    [key], {});\n",
              "        if (!dataTable) return;\n",
              "\n",
              "        const docLinkHtml = 'Like what you see? Visit the ' +\n",
              "          '<a target=\"_blank\" href=https://colab.research.google.com/notebooks/data_table.ipynb>data table notebook</a>'\n",
              "          + ' to learn more about interactive tables.';\n",
              "        element.innerHTML = '';\n",
              "        dataTable['output_type'] = 'display_data';\n",
              "        await google.colab.output.renderOutput(dataTable, element);\n",
              "        const docLink = document.createElement('div');\n",
              "        docLink.innerHTML = docLinkHtml;\n",
              "        element.appendChild(docLink);\n",
              "      }\n",
              "    </script>\n",
              "  </div>\n",
              "\n",
              "\n",
              "<div id=\"df-9c8e2247-451c-4dd5-bb81-15fe2f8fd5ab\">\n",
              "  <button class=\"colab-df-quickchart\" onclick=\"quickchart('df-9c8e2247-451c-4dd5-bb81-15fe2f8fd5ab')\"\n",
              "            title=\"Suggest charts.\"\n",
              "            style=\"display:none;\">\n",
              "\n",
              "<svg xmlns=\"http://www.w3.org/2000/svg\" height=\"24px\"viewBox=\"0 0 24 24\"\n",
              "     width=\"24px\">\n",
              "    <g>\n",
              "        <path d=\"M19 3H5c-1.1 0-2 .9-2 2v14c0 1.1.9 2 2 2h14c1.1 0 2-.9 2-2V5c0-1.1-.9-2-2-2zM9 17H7v-7h2v7zm4 0h-2V7h2v10zm4 0h-2v-4h2v4z\"/>\n",
              "    </g>\n",
              "</svg>\n",
              "  </button>\n",
              "\n",
              "<style>\n",
              "  .colab-df-quickchart {\n",
              "      --bg-color: #E8F0FE;\n",
              "      --fill-color: #1967D2;\n",
              "      --hover-bg-color: #E2EBFA;\n",
              "      --hover-fill-color: #174EA6;\n",
              "      --disabled-fill-color: #AAA;\n",
              "      --disabled-bg-color: #DDD;\n",
              "  }\n",
              "\n",
              "  [theme=dark] .colab-df-quickchart {\n",
              "      --bg-color: #3B4455;\n",
              "      --fill-color: #D2E3FC;\n",
              "      --hover-bg-color: #434B5C;\n",
              "      --hover-fill-color: #FFFFFF;\n",
              "      --disabled-bg-color: #3B4455;\n",
              "      --disabled-fill-color: #666;\n",
              "  }\n",
              "\n",
              "  .colab-df-quickchart {\n",
              "    background-color: var(--bg-color);\n",
              "    border: none;\n",
              "    border-radius: 50%;\n",
              "    cursor: pointer;\n",
              "    display: none;\n",
              "    fill: var(--fill-color);\n",
              "    height: 32px;\n",
              "    padding: 0;\n",
              "    width: 32px;\n",
              "  }\n",
              "\n",
              "  .colab-df-quickchart:hover {\n",
              "    background-color: var(--hover-bg-color);\n",
              "    box-shadow: 0 1px 2px rgba(60, 64, 67, 0.3), 0 1px 3px 1px rgba(60, 64, 67, 0.15);\n",
              "    fill: var(--button-hover-fill-color);\n",
              "  }\n",
              "\n",
              "  .colab-df-quickchart-complete:disabled,\n",
              "  .colab-df-quickchart-complete:disabled:hover {\n",
              "    background-color: var(--disabled-bg-color);\n",
              "    fill: var(--disabled-fill-color);\n",
              "    box-shadow: none;\n",
              "  }\n",
              "\n",
              "  .colab-df-spinner {\n",
              "    border: 2px solid var(--fill-color);\n",
              "    border-color: transparent;\n",
              "    border-bottom-color: var(--fill-color);\n",
              "    animation:\n",
              "      spin 1s steps(1) infinite;\n",
              "  }\n",
              "\n",
              "  @keyframes spin {\n",
              "    0% {\n",
              "      border-color: transparent;\n",
              "      border-bottom-color: var(--fill-color);\n",
              "      border-left-color: var(--fill-color);\n",
              "    }\n",
              "    20% {\n",
              "      border-color: transparent;\n",
              "      border-left-color: var(--fill-color);\n",
              "      border-top-color: var(--fill-color);\n",
              "    }\n",
              "    30% {\n",
              "      border-color: transparent;\n",
              "      border-left-color: var(--fill-color);\n",
              "      border-top-color: var(--fill-color);\n",
              "      border-right-color: var(--fill-color);\n",
              "    }\n",
              "    40% {\n",
              "      border-color: transparent;\n",
              "      border-right-color: var(--fill-color);\n",
              "      border-top-color: var(--fill-color);\n",
              "    }\n",
              "    60% {\n",
              "      border-color: transparent;\n",
              "      border-right-color: var(--fill-color);\n",
              "    }\n",
              "    80% {\n",
              "      border-color: transparent;\n",
              "      border-right-color: var(--fill-color);\n",
              "      border-bottom-color: var(--fill-color);\n",
              "    }\n",
              "    90% {\n",
              "      border-color: transparent;\n",
              "      border-bottom-color: var(--fill-color);\n",
              "    }\n",
              "  }\n",
              "</style>\n",
              "\n",
              "  <script>\n",
              "    async function quickchart(key) {\n",
              "      const quickchartButtonEl =\n",
              "        document.querySelector('#' + key + ' button');\n",
              "      quickchartButtonEl.disabled = true;  // To prevent multiple clicks.\n",
              "      quickchartButtonEl.classList.add('colab-df-spinner');\n",
              "      try {\n",
              "        const charts = await google.colab.kernel.invokeFunction(\n",
              "            'suggestCharts', [key], {});\n",
              "      } catch (error) {\n",
              "        console.error('Error during call to suggestCharts:', error);\n",
              "      }\n",
              "      quickchartButtonEl.classList.remove('colab-df-spinner');\n",
              "      quickchartButtonEl.classList.add('colab-df-quickchart-complete');\n",
              "    }\n",
              "    (() => {\n",
              "      let quickchartButtonEl =\n",
              "        document.querySelector('#df-9c8e2247-451c-4dd5-bb81-15fe2f8fd5ab button');\n",
              "      quickchartButtonEl.style.display =\n",
              "        google.colab.kernel.accessAllowed ? 'block' : 'none';\n",
              "    })();\n",
              "  </script>\n",
              "</div>\n",
              "    </div>\n",
              "  </div>\n"
            ]
          },
          "metadata": {},
          "execution_count": 17
        }
      ]
    },
    {
      "cell_type": "code",
      "source": [
        "categorical_columns = ['price', 'maint', 'doors', 'persons', 'lug_capacity', 'safety']\n",
        "\n",
        "for category in categorical_columns:\n",
        "  dataset[category] = dataset[category].astype('category')\n",
        "\n",
        "# categorical data -> numeric data(numpy)\n",
        "price = dataset['price'].cat.codes.values\n",
        "maint = dataset['maint'].cat.codes.values\n",
        "doors = dataset['doors'].cat.codes.values\n",
        "persons = dataset['persons'].cat.codes.values\n",
        "lug_capacity = dataset['lug_capacity'].cat.codes.values\n",
        "safety = dataset['safety'].cat.codes.values\n",
        "\n",
        "# 2차원 행렬들을 3차원으로 stack\n",
        "categorical_data = np.stack([price, maint, doors, persons, lug_capacity, safety], 1)\n",
        "categorical_data[:10]"
      ],
      "metadata": {
        "colab": {
          "base_uri": "https://localhost:8080/"
        },
        "id": "9M2PHdEInrtE",
        "outputId": "5f7228e3-03b9-4399-d05d-dddd2da4342f"
      },
      "execution_count": 22,
      "outputs": [
        {
          "output_type": "execute_result",
          "data": {
            "text/plain": [
              "array([[3, 3, 0, 0, 2, 1],\n",
              "       [3, 3, 0, 0, 2, 2],\n",
              "       [3, 3, 0, 0, 2, 0],\n",
              "       [3, 3, 0, 0, 1, 1],\n",
              "       [3, 3, 0, 0, 1, 2],\n",
              "       [3, 3, 0, 0, 1, 0],\n",
              "       [3, 3, 0, 0, 0, 1],\n",
              "       [3, 3, 0, 0, 0, 2],\n",
              "       [3, 3, 0, 0, 0, 0],\n",
              "       [3, 3, 0, 1, 2, 1]], dtype=int8)"
            ]
          },
          "metadata": {},
          "execution_count": 22
        }
      ]
    },
    {
      "cell_type": "code",
      "source": [
        "# numpy to tensor\n",
        "categorical_data = torch.tensor(categorical_data, dtype=torch.int64)\n",
        "categorical_data[:10]"
      ],
      "metadata": {
        "colab": {
          "base_uri": "https://localhost:8080/"
        },
        "id": "X6PYKLIKpYTK",
        "outputId": "34a12dd1-c99b-4fe3-c495-5c5c9ce71459"
      },
      "execution_count": 24,
      "outputs": [
        {
          "output_type": "stream",
          "name": "stderr",
          "text": [
            "<ipython-input-24-d0e55bade00b>:1: UserWarning: To copy construct from a tensor, it is recommended to use sourceTensor.clone().detach() or sourceTensor.clone().detach().requires_grad_(True), rather than torch.tensor(sourceTensor).\n",
            "  categorical_data = torch.tensor(categorical_data, dtype=torch.int64)\n"
          ]
        },
        {
          "output_type": "execute_result",
          "data": {
            "text/plain": [
              "tensor([[3, 3, 0, 0, 2, 1],\n",
              "        [3, 3, 0, 0, 2, 2],\n",
              "        [3, 3, 0, 0, 2, 0],\n",
              "        [3, 3, 0, 0, 1, 1],\n",
              "        [3, 3, 0, 0, 1, 2],\n",
              "        [3, 3, 0, 0, 1, 0],\n",
              "        [3, 3, 0, 0, 0, 1],\n",
              "        [3, 3, 0, 0, 0, 2],\n",
              "        [3, 3, 0, 0, 0, 0],\n",
              "        [3, 3, 0, 1, 2, 1]])"
            ]
          },
          "metadata": {},
          "execution_count": 24
        }
      ]
    },
    {
      "cell_type": "code",
      "source": [
        "# 데이터 가변수화\n",
        "outputs = pd.get_dummies(dataset.output)\n",
        "outputs = outputs.values\n",
        "outputs = torch.tensor(outputs).flatten()\n",
        "\n",
        "print(categorical_data.shape)\n",
        "print(outputs.shape)"
      ],
      "metadata": {
        "colab": {
          "base_uri": "https://localhost:8080/"
        },
        "id": "Vq9D8mict5Mk",
        "outputId": "83188320-44bc-4e16-dae9-822cbdc9c6e8"
      },
      "execution_count": 29,
      "outputs": [
        {
          "output_type": "stream",
          "name": "stdout",
          "text": [
            "torch.Size([1728, 6])\n",
            "torch.Size([6912])\n"
          ]
        }
      ]
    },
    {
      "cell_type": "code",
      "source": [
        "# word embedding\n",
        "categorical_column_sizes = [len(dataset[column].cat.categories) for column in categorical_columns]\n",
        "categorical_embedding_sizes = [(col_size, min(50, (col_size+1)//2)) for col_size in categorical_column_sizes]\n",
        "print(categorical_embedding_sizes)"
      ],
      "metadata": {
        "colab": {
          "base_uri": "https://localhost:8080/"
        },
        "id": "U-AIvQAbuWmb",
        "outputId": "383ffedd-2f2a-44b5-a512-db0222d1faa2"
      },
      "execution_count": 32,
      "outputs": [
        {
          "output_type": "stream",
          "name": "stdout",
          "text": [
            "[(4, 2), (4, 2), (4, 2), (3, 2), (3, 2), (3, 2)]\n"
          ]
        }
      ]
    },
    {
      "cell_type": "code",
      "source": [
        "total_records = 1728\n",
        "test_records = int(total_records*.2)\n",
        "\n",
        "train_data = categorical_data[:total_records-test_records]\n",
        "test_data = categorical_data[total_records-test_records:total_records]\n",
        "\n",
        "train_outputs = outputs[:total_records-test_records]\n",
        "test_outputs = outputs[total_records-test_records:total_records]\n",
        "\n",
        "print(len(train_data), len(test_data), len(train_outputs), len(test_outputs))"
      ],
      "metadata": {
        "colab": {
          "base_uri": "https://localhost:8080/"
        },
        "id": "6ZcIhy3IwYxV",
        "outputId": "f206d27d-3f6b-430b-a712-0102892e5961"
      },
      "execution_count": 33,
      "outputs": [
        {
          "output_type": "stream",
          "name": "stdout",
          "text": [
            "1383 345 1383 345\n"
          ]
        }
      ]
    },
    {
      "cell_type": "code",
      "source": [
        "class Model(nn.Module):\n",
        "  def __init__(self, embedding_size, output_size, layers, p=.4):\n",
        "    super().__init__()\n",
        "    self.all_embeddings = nn.ModuleList([nn.Embedding(ni, nf) for ni, nf in embedding_size])\n",
        "    self.embedding_dropout = nn.Dropout(p)\n",
        "\n",
        "    all_layers = []\n",
        "    num_categorical_cols = sum((nf for _, nf in embedding_size))\n",
        "    input_size = num_categorical_cols\n",
        "\n",
        "    for i in layers:\n",
        "      all_layers.append(nn.Linear(input_size, i))\n",
        "      all_layers.append(nn.ReLU(inplace=True))\n",
        "      all_layers.append(nn.BatchNorm1d(i))\n",
        "      all_layers.append(nn.Dropout(p))\n",
        "      input_size = i\n",
        "\n",
        "    all_layers.append(nn.Linear(layers[-1], output_size))\n",
        "    self.layers = nn.Sequential(*all_layers)\n",
        "\n",
        "  def forward(self, x_categorical):\n",
        "    embeddings = []\n",
        "\n",
        "    for i, e in enumerate(self.all_embeddings):\n",
        "      embeddings.append(e(x_categorical[:, i]))\n",
        "\n",
        "    x = torch.cat(embeddings, 1)\n",
        "    x = self.embedding_dropout(x)\n",
        "    x = self.layers(x)\n",
        "\n",
        "    return x"
      ],
      "metadata": {
        "id": "-xVmmcS1x27I"
      },
      "execution_count": 35,
      "outputs": []
    },
    {
      "cell_type": "code",
      "source": [
        "model = Model(categorical_embedding_sizes, 4, [200, 100, 50])\n",
        "print(model)"
      ],
      "metadata": {
        "colab": {
          "base_uri": "https://localhost:8080/"
        },
        "id": "76tSzk2SzMeA",
        "outputId": "9494fd5d-0466-4a3d-d31b-3a78e0e8dcb1"
      },
      "execution_count": 36,
      "outputs": [
        {
          "output_type": "stream",
          "name": "stdout",
          "text": [
            "Model(\n",
            "  (all_embeddings): ModuleList(\n",
            "    (0-2): 3 x Embedding(4, 2)\n",
            "    (3-5): 3 x Embedding(3, 2)\n",
            "  )\n",
            "  (embedding_dropout): Dropout(p=0.4, inplace=False)\n",
            "  (layers): Sequential(\n",
            "    (0): Linear(in_features=12, out_features=200, bias=True)\n",
            "    (1): ReLU(inplace=True)\n",
            "    (2): BatchNorm1d(200, eps=1e-05, momentum=0.1, affine=True, track_running_stats=True)\n",
            "    (3): Dropout(p=0.4, inplace=False)\n",
            "    (4): Linear(in_features=200, out_features=100, bias=True)\n",
            "    (5): ReLU(inplace=True)\n",
            "    (6): BatchNorm1d(100, eps=1e-05, momentum=0.1, affine=True, track_running_stats=True)\n",
            "    (7): Dropout(p=0.4, inplace=False)\n",
            "    (8): Linear(in_features=100, out_features=50, bias=True)\n",
            "    (9): ReLU(inplace=True)\n",
            "    (10): BatchNorm1d(50, eps=1e-05, momentum=0.1, affine=True, track_running_stats=True)\n",
            "    (11): Dropout(p=0.4, inplace=False)\n",
            "    (12): Linear(in_features=50, out_features=4, bias=True)\n",
            "  )\n",
            ")\n"
          ]
        }
      ]
    },
    {
      "cell_type": "code",
      "source": [
        "loss_function = nn.CrossEntropyLoss()\n",
        "optimizer = torch.optim.Adam(model.parameters(), lr=0.001)"
      ],
      "metadata": {
        "id": "V_UK0H0ezY7-"
      },
      "execution_count": 37,
      "outputs": []
    },
    {
      "cell_type": "code",
      "source": [
        "if torch.cuda.is_available():\n",
        "  device = torch.device('cuda')\n",
        "else:\n",
        "  device = torch.device('cpu')"
      ],
      "metadata": {
        "id": "8v9gDrYOzjR6"
      },
      "execution_count": 38,
      "outputs": []
    },
    {
      "cell_type": "code",
      "source": [
        "epochs = 500\n",
        "aggregated_losses = []\n",
        "train_outputs = train_outputs.to(device=device, dtype=torch.int64)\n",
        "\n",
        "for i in range(epochs):\n",
        "  i += 1\n",
        "  y_pred = model(train_data).to(device)\n",
        "  single_loss = loss_function(y_pred, train_outputs)\n",
        "  aggregated_losses.append(single_loss)\n",
        "\n",
        "  if i%25 == 1:\n",
        "    print(f'epoch: {i:3} loss: {single_loss.item():10.8f}')\n",
        "\n",
        "  optimizer.zero_grad()\n",
        "  single_loss.backward()\n",
        "  optimizer.step()\n",
        "\n",
        "print(f'epoch: {i:3} loss: {single_loss.item():10.8f}')"
      ],
      "metadata": {
        "colab": {
          "base_uri": "https://localhost:8080/"
        },
        "id": "zw80MW0Zzr2w",
        "outputId": "bf971059-dd3a-4fe5-bc82-cf22a56686d7"
      },
      "execution_count": 54,
      "outputs": [
        {
          "output_type": "stream",
          "name": "stdout",
          "text": [
            "epoch:   1 loss: 0.48116896\n",
            "epoch:  26 loss: 0.49425414\n",
            "epoch:  51 loss: 0.49056450\n",
            "epoch:  76 loss: 0.48331669\n",
            "epoch: 101 loss: 0.49357095\n",
            "epoch: 126 loss: 0.49922621\n",
            "epoch: 151 loss: 0.48813200\n",
            "epoch: 176 loss: 0.49053499\n",
            "epoch: 201 loss: 0.49863794\n",
            "epoch: 226 loss: 0.49229693\n",
            "epoch: 251 loss: 0.48887336\n",
            "epoch: 276 loss: 0.49972925\n",
            "epoch: 301 loss: 0.47954756\n",
            "epoch: 326 loss: 0.48899519\n",
            "epoch: 351 loss: 0.48490360\n",
            "epoch: 376 loss: 0.48504159\n",
            "epoch: 401 loss: 0.48202765\n",
            "epoch: 426 loss: 0.48941347\n",
            "epoch: 451 loss: 0.48119375\n",
            "epoch: 476 loss: 0.48509744\n",
            "epoch: 500 loss: 0.47816458\n"
          ]
        }
      ]
    },
    {
      "cell_type": "code",
      "source": [
        "test_outputs = test_outputs.to(device=device, dtype=torch.int64)\n",
        "\n",
        "with torch.no_grad():\n",
        "  y_val = model(test_data).to(device)\n",
        "  loss = loss_function(y_val, test_outputs)\n",
        "\n",
        "print(f'Loss: {loss:.8f}')"
      ],
      "metadata": {
        "colab": {
          "base_uri": "https://localhost:8080/"
        },
        "id": "Ii5agA290aaM",
        "outputId": "134e648e-cc7e-4782-b469-e6aa608570d3"
      },
      "execution_count": 55,
      "outputs": [
        {
          "output_type": "stream",
          "name": "stdout",
          "text": [
            "Loss: 0.41570696\n"
          ]
        }
      ]
    }
  ]
}